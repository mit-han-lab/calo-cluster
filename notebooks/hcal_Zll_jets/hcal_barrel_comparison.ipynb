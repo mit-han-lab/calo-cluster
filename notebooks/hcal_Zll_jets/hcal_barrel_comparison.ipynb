{
 "cells": [
  {
   "cell_type": "code",
   "execution_count": null,
   "metadata": {},
   "outputs": [],
   "source": [
    "import plotly.express as px\n",
    "import plotly.graph_objects as go\n",
    "import numpy as np\n",
    "import pandas as pd\n",
    "from pathlib import Path\n",
    "from calo_cluster.evaluation.utils import get_palette"
   ]
  },
  {
   "cell_type": "code",
   "execution_count": null,
   "metadata": {},
   "outputs": [],
   "source": [
    "root = Path('/global/cscratch1/sd/schuya/calo_cluster/plots/27qp2g8o/last')\n",
    "nn_dir = root / 'nn'\n",
    "pf_dir = root / 'pf'"
   ]
  },
  {
   "cell_type": "code",
   "execution_count": null,
   "metadata": {},
   "outputs": [],
   "source": []
  },
  {
   "cell_type": "code",
   "execution_count": null,
   "metadata": {},
   "outputs": [],
   "source": [
    "nn_eff = np.load(str(nn_dir / '1' / 'efficiency.npy'))\n",
    "nn_fr = np.load(str(nn_dir / '1' / 'fake_rate.npy'))\n",
    "nn_response = np.load(str(nn_dir / '1' / 'response.npy'))\n",
    "nn_resolution = np.load(str(nn_dir / '1' / 'resolution.npy'))"
   ]
  },
  {
   "cell_type": "code",
   "execution_count": null,
   "metadata": {},
   "outputs": [],
   "source": [
    "nn_resolution"
   ]
  },
  {
   "cell_type": "code",
   "execution_count": null,
   "metadata": {},
   "outputs": [],
   "source": [
    "from pathlib import Path\n",
    "import sys\n",
    "from typing import Union\n",
    "import colorcet as cc\n",
    "import numpy as np\n",
    "\n",
    "def get_palette(instances: Union[np.array, int]):\n",
    "    if type(instances) is int:\n",
    "        size = instances\n",
    "    else:\n",
    "        size = np.unique(instances).shape[0]\n",
    "    hex_colors = cc.glasbey_dark[:size]\n",
    "    return [f'rgb{int(h[1:3], base=16),int(h[3:5], base=16),int(h[5:7], base=16)}' for h in hex_colors]"
   ]
  },
  {
   "cell_type": "code",
   "execution_count": null,
   "metadata": {},
   "outputs": [],
   "source": [
    "edges = np.array([0, 0.5, 1, 2, 3, 6, 10])\n",
    "centers = (edges[1:] + edges[:-1]) / 2"
   ]
  },
  {
   "cell_type": "code",
   "execution_count": null,
   "metadata": {},
   "outputs": [],
   "source": [
    "def make_step_plot(edges, y_pf, y_nn):\n",
    "    centers = (edges[1:] + edges[:-1]) / 2\n",
    "    fig = go.Figure()\n",
    "    colors = get_palette(2)\n",
    "    fig.add_trace(go.Scatter(x=edges, y=y_pf, mode='lines', line_shape='hv', name='particle flow', legendgroup=\"particle flow\", line_color=colors[0]))\n",
    "    fig.add_trace(go.Scatter(x=centers, y=y_pf[:-1], mode='markers', name='particle flow', legendgroup=\"particle flow\", line_color=colors[0]))\n",
    "    fig.add_trace(go.Scatter(x=edges, y=y_nn, mode='lines', line_shape='hv', name='spvcnn', legendgroup=\"spvcnn\", line_color=colors[1]))\n",
    "    fig.add_trace(go.Scatter(x=centers, y=y_nn[:-1], mode='markers', name='spvcnn', legendgroup=\"spvcnn\", line_color=colors[1]))\n",
    "    return fig"
   ]
  },
  {
   "cell_type": "code",
   "execution_count": null,
   "metadata": {},
   "outputs": [],
   "source": [
    "def save_comparisons(root, pf_dir, nn_dir):\n",
    "    pf_eff = np.load(str(pf_dir / '1' / 'efficiency.npy'))\n",
    "    pf_fr = np.load(str(pf_dir / '1' / 'fake_rate.npy'))\n",
    "    pf_response = np.load(str(pf_dir / '1' / 'response.npy'))\n",
    "    pf_resolution = np.load(str(pf_dir / '1' / 'resolution.npy'))\n",
    "\n",
    "    nn_eff = np.load(str(nn_dir / '1' / 'efficiency.npy'))\n",
    "    nn_fr = np.load(str(nn_dir / '1' / 'fake_rate.npy'))\n",
    "    nn_response = np.load(str(nn_dir / '1' / 'response.npy'))\n",
    "    nn_resolution = np.load(str(nn_dir / '1' / 'resolution.npy'))\n",
    "    \n",
    "    eff_fig = make_step_plot(edges, pf_eff, nn_eff)\n",
    "    eff_fig.update_layout(yaxis_range=(0,1), yaxis_title='efficiency', xaxis_title='energy [GeV]')\n",
    "    eff_fig.show()\n",
    "    eff_fig.write_image(str(root / 'efficiency.png'), scale=5)\n",
    "    \n",
    "    fr_fig = make_step_plot(edges, pf_fr, nn_fr)\n",
    "    fr_fig.update_layout(yaxis_range=(0,1), yaxis_title='fake rate', xaxis_title='energy [GeV]')\n",
    "    fr_fig.show()\n",
    "    fr_fig.write_image(str(root / 'fake_rate.png'), scale=5)\n",
    "\n",
    "    response_fig = make_step_plot(edges, pf_response, nn_response)\n",
    "    response_fig.update_layout(yaxis_range=(0,2), yaxis_title='response', xaxis_title='energy [GeV]')\n",
    "    response_fig.show()\n",
    "    response_fig.write_image(str(root / 'response.png'), scale=5)\n",
    "\n",
    "    resolution_fig = make_step_plot(edges, pf_resolution, nn_resolution)\n",
    "    resolution_fig.update_layout(yaxis_range=(0,1), yaxis_title='resolution', xaxis_title='energy [GeV]')\n",
    "    resolution_fig.show()\n",
    "    resolution_fig.write_image(str(root / 'resolution.png'), scale=5)\n"
   ]
  },
  {
   "cell_type": "code",
   "execution_count": null,
   "metadata": {},
   "outputs": [],
   "source": [
    "save_comparisons(root, pf_dir, nn_dir)"
   ]
  },
  {
   "cell_type": "code",
   "execution_count": null,
   "metadata": {},
   "outputs": [],
   "source": [
    "response_fig = make_step_plot(edges, pf_response, nn_response)\n",
    "response_fig.update_layout(yaxis_range=(0,2), yaxis_title='response', xaxis_title='energy [GeV]')\n",
    "response_fig.show()"
   ]
  },
  {
   "cell_type": "code",
   "execution_count": null,
   "metadata": {},
   "outputs": [],
   "source": [
    "resolution_fig = make_step_plot(edges, pf_resolution, nn_resolution)\n",
    "resolution_fig.update_layout(yaxis_range=(0,1), yaxis_title='resolution', xaxis_title='energy [GeV]')\n",
    "resolution_fig.show()"
   ]
  },
  {
   "cell_type": "code",
   "execution_count": null,
   "metadata": {},
   "outputs": [],
   "source": []
  }
 ],
 "metadata": {
  "interpreter": {
   "hash": "42f3afaafa0f1bb31776828469ed6b118f7c18bb7a81d60e5ebb8b6c0ea0970e"
  },
  "kernelspec": {
   "display_name": "Python 3.8.12 64-bit ('calo_cluster': conda)",
   "name": "python3"
  },
  "language_info": {
   "codemirror_mode": {
    "name": "ipython",
    "version": 3
   },
   "file_extension": ".py",
   "mimetype": "text/x-python",
   "name": "python",
   "nbconvert_exporter": "python",
   "pygments_lexer": "ipython3",
   "version": "3.8.12"
  }
 },
 "nbformat": 4,
 "nbformat_minor": 2
}
