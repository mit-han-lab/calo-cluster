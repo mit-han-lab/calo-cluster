{
 "cells": [
  {
   "cell_type": "code",
   "execution_count": null,
   "metadata": {},
   "outputs": [],
   "source": [
    "\n",
    "from pathlib import Path\n",
    "\n",
    "from calo_cluster.datasets.hcal_tt import HCalTTDataModule\n",
    "\n",
    "root_data_path = Path('/global/cscratch1/sd/schuya/calo_cluster/data/hcal/tt')\n",
    "raw_data_dir = root_data_path / 'raw'\n",
    "\n",
    "\n",
    "HCalTTDataModule.root_to_pickle(root_data_path, raw_data_dir)\n",
    "# %%\n"
   ]
  }
 ],
 "metadata": {
  "language_info": {
   "name": "python"
  },
  "orig_nbformat": 4
 },
 "nbformat": 4,
 "nbformat_minor": 2
}
