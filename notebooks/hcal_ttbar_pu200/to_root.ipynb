{
 "cells": [
  {
   "cell_type": "code",
   "execution_count": null,
   "metadata": {},
   "outputs": [],
   "source": [
    "root_data_path = Path('/global/cscratch1/sd/schuya/calo_cluster/data/hcal/tt_mu_200')\n",
    "raw_data_dir = root_data_path / 'raw'\n",
    "\n",
    "# %%\n",
    "HCalTTPU200PFDataModule.root_to_pickle(root_data_path, raw_data_dir)"
   ]
  },
  {
   "cell_type": "code",
   "execution_count": null,
   "metadata": {},
   "outputs": [],
   "source": [
    "from calo_cluster.datasets.hcal_tt_pu200_pf import HCalTTPU200PFDataModule\n",
    "from pathlib import Path"
   ]
  },
  {
   "cell_type": "code",
   "execution_count": null,
   "metadata": {},
   "outputs": [],
   "source": []
  }
 ],
 "metadata": {
  "interpreter": {
   "hash": "42f3afaafa0f1bb31776828469ed6b118f7c18bb7a81d60e5ebb8b6c0ea0970e"
  },
  "kernelspec": {
   "display_name": "Python 3.8.12 64-bit ('calo_cluster': conda)",
   "name": "python3"
  },
  "language_info": {
   "codemirror_mode": {
    "name": "ipython",
    "version": 3
   },
   "file_extension": ".py",
   "mimetype": "text/x-python",
   "name": "python",
   "nbconvert_exporter": "python",
   "pygments_lexer": "ipython3",
   "version": "3.8.12"
  }
 },
 "nbformat": 4,
 "nbformat_minor": 2
}
